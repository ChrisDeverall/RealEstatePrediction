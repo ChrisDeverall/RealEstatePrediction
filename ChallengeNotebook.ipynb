{
 "cells": [
  {
   "cell_type": "markdown",
   "metadata": {},
   "source": [
    "# ICDSS Application: Real Estate Price Prediction\n",
    "\n",
    "## Christian Deverall (3rd Year EIE)"
   ]
  },
  {
   "cell_type": "markdown",
   "metadata": {},
   "source": [
    "### Project Goal:\n",
    "\n",
    "My analysis allows real estate agents from Ames to estimate house prices using features that could only be only be obtained by viewing the house from Google Maps (both street and satelite view). This would allow real estate agents to create rough price estimations from their office.\n",
    "\n",
    "\n",
    "#### Findings:\n",
    "\n",
    "Using the confined set of features, my final model predicted price with a mean absolute percentage error of 15.1%.\n",
    "\n",
    "#### Format:\n",
    "\n",
    "Assumptions, reasoning and explanations are written next to the code below."
   ]
  },
  {
   "cell_type": "code",
   "execution_count": 1,
   "metadata": {},
   "outputs": [],
   "source": [
    "import pandas as pd\n",
    "import numpy as np\n",
    "import math\n",
    "import matplotlib.pyplot as plt\n",
    "from matplotlib.pyplot import scatter"
   ]
  },
  {
   "cell_type": "code",
   "execution_count": 2,
   "metadata": {},
   "outputs": [],
   "source": [
    "df = pd.read_csv(\"data.csv\")"
   ]
  },
  {
   "cell_type": "markdown",
   "metadata": {},
   "source": [
    "Find columns that have more than 2000 null values:"
   ]
  },
  {
   "cell_type": "code",
   "execution_count": 3,
   "metadata": {
    "scrolled": false
   },
   "outputs": [
    {
     "name": "stdout",
     "output_type": "stream",
     "text": [
      "Alley - number of non-empty cols:  198\n",
      "PoolQC - number of non-empty cols:  13\n",
      "Fence - number of non-empty cols:  572\n",
      "MiscFeature - number of non-empty cols:  106\n"
     ]
    }
   ],
   "source": [
    "for i in list(df.columns):\n",
    "    if len(df[i].dropna())<930:\n",
    "        print(i, \"- number of non-empty cols: \", len(df[i].dropna()))"
   ]
  },
  {
   "cell_type": "code",
   "execution_count": 4,
   "metadata": {
    "scrolled": true
   },
   "outputs": [],
   "source": [
    "df.drop([\"Alley\",\"PoolQC\",\"Fence\",\"MiscFeature\",\"MiscVal\"], axis = 1, inplace = True)"
   ]
  },
  {
   "cell_type": "markdown",
   "metadata": {},
   "source": [
    "Initial visualisation to remove anomalies. Also GrLivArea seemed to have the strongest correlation on SalePrice."
   ]
  },
  {
   "cell_type": "code",
   "execution_count": 5,
   "metadata": {
    "scrolled": true
   },
   "outputs": [
    {
     "data": {
      "text/plain": [
       "<matplotlib.collections.PathCollection at 0x1139116d8>"
      ]
     },
     "execution_count": 5,
     "metadata": {},
     "output_type": "execute_result"
    },
    {
     "data": {
      "image/png": "[encoded data removed]",
      "text/plain": [
       "<Figure size 432x288 with 1 Axes>"
      ]
     },
     "metadata": {},
     "output_type": "display_data"
    }
   ],
   "source": [
    "from matplotlib.pyplot import scatter\n",
    "scatter(df[\"SalePrice\"], df[\"GrLivArea\"])"
   ]
  },
  {
   "cell_type": "markdown",
   "metadata": {},
   "source": [
    "Drop three outliers around 150000,5000"
   ]
  },
  {
   "cell_type": "code",
   "execution_count": 6,
   "metadata": {
    "scrolled": true
   },
   "outputs": [],
   "source": [
    "df.drop(df[(df[\"GrLivArea\"]>4000) & (df[\"SalePrice\"]<300000)].index, inplace=True)"
   ]
  },
  {
   "cell_type": "markdown",
   "metadata": {},
   "source": [
    "Features observable from Google Maps such as LotArea, Neighbourhood are kept, while non-visible features such as utilities/heating are dropped. \n",
    "#### Assumptions:\n",
    "-Google Maps available for selected house and satelite/ street view not covered by trees\n",
    "\n",
    "-Viewers can perfectly estimate continuous values such as area of the house"
   ]
  },
  {
   "cell_type": "code",
   "execution_count": 7,
   "metadata": {},
   "outputs": [],
   "source": [
    "df=df[[\"MSZoning\",\"LotFrontage\",\"LotArea\",\"Street\",\"LotShape\",\"LandContour\",\"LotConfig\",\"LandSlope\",\"Neighborhood\",\"Condition1\",\"Condition2\",\"BldgType\",\"HouseStyle\",\"Exterior1st\",\"Exterior2nd\",\"MasVnrType\",\"MasVnrArea\",\"ExterQual\",\"ExterCond\",\"BsmtExposure\",\"1stFlrSF\",\"2ndFlrSF\",\"LowQualFinSF\",\"GrLivArea\",\"TotRmsAbvGrd\",\"GarageType\",\"GarageArea\",\"PavedDrive\",\"WoodDeckSF\",\"OpenPorchSF\",\"MoSold\",\"YrSold\",\"SalePrice\"]]\n"
   ]
  },
  {
   "cell_type": "markdown",
   "metadata": {},
   "source": [
    "Locate and fill columns with a few nulls:"
   ]
  },
  {
   "cell_type": "code",
   "execution_count": 8,
   "metadata": {
    "scrolled": true
   },
   "outputs": [
    {
     "name": "stdout",
     "output_type": "stream",
     "text": [
      "LotFrontage\n",
      "MasVnrType\n",
      "MasVnrArea\n",
      "BsmtExposure\n",
      "GarageType\n",
      "GarageArea\n"
     ]
    }
   ],
   "source": [
    "for i in list(df.columns):\n",
    "    if df[i].isna().value_counts()[0] !=2927:\n",
    "        print (i)"
   ]
  },
  {
   "cell_type": "code",
   "execution_count": 9,
   "metadata": {},
   "outputs": [],
   "source": [
    "df[\"LotFrontage\"].fillna(df[\"LotFrontage\"].mean(),inplace=True)\n",
    "df[\"MasVnrArea\"].fillna(0.0,inplace=True)\n",
    "df[\"MasVnrType\"].fillna(\"None\",inplace=True)\n",
    "df[\"BsmtExposure\"].fillna(\"No\",inplace =True)\n",
    "# ^ BsmtExposure changed to \"No\" because having no basement implies having no basement exposure\n",
    "\n",
    "df[\"GarageType\"].fillna(\"None\",inplace=True)\n",
    "df[\"GarageArea\"].fillna(df[\"GarageArea\"].mean(),inplace=True)"
   ]
  },
  {
   "cell_type": "markdown",
   "metadata": {},
   "source": [
    "Locating ordinal values and mapping them to numerical values representing intensity:"
   ]
  },
  {
   "cell_type": "code",
   "execution_count": 10,
   "metadata": {
    "scrolled": true
   },
   "outputs": [
    {
     "name": "stdout",
     "output_type": "stream",
     "text": [
      "MSZoning\n",
      "Street\n",
      "LotShape\n",
      "LandContour\n",
      "LotConfig\n",
      "LandSlope\n",
      "Neighborhood\n",
      "Condition1\n",
      "Condition2\n",
      "BldgType\n",
      "HouseStyle\n",
      "Exterior1st\n",
      "Exterior2nd\n",
      "MasVnrType\n",
      "ExterQual\n",
      "ExterCond\n",
      "BsmtExposure\n",
      "GarageType\n",
      "PavedDrive\n"
     ]
    }
   ],
   "source": [
    "for i in df.columns:\n",
    "    if type(df[i][0])==str:\n",
    "        print (i)"
   ]
  },
  {
   "cell_type": "code",
   "execution_count": 11,
   "metadata": {
    "scrolled": true
   },
   "outputs": [],
   "source": [
    "df[\"LotShape\"].replace(to_replace=[\"Reg\",\"IR1\",\"IR2\",\"IR3\"], value=[1,2,3,4], inplace =True)\n",
    "df[\"Street\"].replace(to_replace=[\"Grvl\",\"Pave\"], value=[1,2], inplace =True)\n",
    "df[\"LandContour\"].replace(to_replace=[\"Lvl\",\"Bnk\",\"HLS\",\"Low\"],value=[1,2,3,4],inplace =True)\n",
    "df[\"LandSlope\"].replace(to_replace=[\"Gtl\",\"Mod\",\"Sev\"],value=[1,2,3],inplace =True)\n",
    "df[\"ExterQual\"].replace(to_replace=[\"Ex\",\"Gd\",\"TA\",\"Fa\",\"Po\"],value=[1,2,3,4,5],inplace =True)\n",
    "df[\"ExterCond\"].replace(to_replace=[\"Ex\",\"Gd\",\"TA\",\"Fa\",\"Po\"],value=[1,2,3,4,5],inplace =True)\n",
    "df[\"BsmtExposure\"].replace(to_replace=[\"Gd\",\"Av\",\"Mn\",\"No\"],value=[1,2,3,4],inplace =True)\n",
    "df[\"PavedDrive\"].replace(to_replace=[\"Y\",\"P\",\"N\"],value=[1,2,3],inplace =True)"
   ]
  },
  {
   "cell_type": "markdown",
   "metadata": {},
   "source": [
    "Mapping nominal variables to numbers using arbitrary label encoders\n"
   ]
  },
  {
   "cell_type": "code",
   "execution_count": 12,
   "metadata": {
    "scrolled": true
   },
   "outputs": [],
   "source": [
    "from sklearn import preprocessing\n",
    "df[[\"MSZoning\", \"LotConfig\", \"Neighborhood\", \"Condition1\", \"Condition2\", \"BldgType\", \"HouseStyle\", \"HouseStyle\", \"HouseStyle\", \"Exterior1st\", \"Exterior2nd\", \"MasVnrType\", \"GarageType\"]] = df[[\"MSZoning\", \"LotConfig\", \"Neighborhood\", \"Condition1\", \"Condition2\", \"BldgType\", \"HouseStyle\", \"HouseStyle\", \"HouseStyle\", \"Exterior1st\", \"Exterior2nd\", \"MasVnrType\", \"GarageType\"]].apply(preprocessing.LabelEncoder().fit_transform)\n",
    " "
   ]
  },
  {
   "cell_type": "markdown",
   "metadata": {},
   "source": [
    "Perform random train/test/validation split with ratio 60/20/20. \n",
    "Normalise continuous values that are high to have standard values:"
   ]
  },
  {
   "cell_type": "code",
   "execution_count": 13,
   "metadata": {
    "scrolled": true
   },
   "outputs": [],
   "source": [
    "X = df.drop(columns=[\"SalePrice\"])\n",
    "Y = df[\"SalePrice\"]\n",
    "\n",
    "rand_array = np.random.rand(len(df))\n",
    "train_X_df = X[rand_array<0.6]\n",
    "train_Y_df = Y[rand_array<0.6]\n",
    "\n",
    "valid_X_df = X[(rand_array>=0.6) & (rand_array<0.8)]\n",
    "valid_Y_df = Y[(rand_array>=0.6) & (rand_array<0.8)]\n",
    "\n",
    "test_X_df = X[rand_array>=0.8]\n",
    "test_Y_df = Y[rand_array>=0.8]"
   ]
  },
  {
   "cell_type": "markdown",
   "metadata": {},
   "source": [
    "#### Decision:\n",
    "\n",
    "I did not normalise continuous values as:\n",
    "\n",
    "    1) There are no columns with a mean of values in the order of magnitude of 100,000s or more\n",
    "    \n",
    "    2) Every train/test/valid split of the data had very different extremities for min/max values\n",
    "        - The data was being transformed by MinMaxScaler in very different ways within each data split\n",
    "    \n",
    "    3) When I implmented normalisation (as below), there was an increase in percentage error (MAPE) of 1.6%"
   ]
  },
  {
   "cell_type": "code",
   "execution_count": 14,
   "metadata": {
    "scrolled": false
   },
   "outputs": [],
   "source": [
    "# my_scaler = preprocessing.MinMaxScaler()\n",
    "# train_X_df[[\"LotFrontage\",\"LotArea\",\"MasVnrArea\",\"1stFlrSF\",\"2ndFlrSF\",\"LowQualFinSF\",\"GrLivArea\",\"GarageArea\",\"OpenPorchSF\"]] = my_scaler.fit_transform(train_X_df[[\"LotFrontage\",\"LotArea\",\"MasVnrArea\",\"1stFlrSF\",\"2ndFlrSF\",\"LowQualFinSF\",\"GrLivArea\",\"GarageArea\",\"OpenPorchSF\"]])\n",
    "\n",
    "# my_scaler.fit(valid_X_df[[\"LotFrontage\",\"LotArea\",\"MasVnrArea\",\"1stFlrSF\",\"2ndFlrSF\",\"LowQualFinSF\",\"GrLivArea\",\"GarageArea\",\"OpenPorchSF\"]])\n",
    "# valid_X_df[[\"LotFrontage\",\"LotArea\",\"MasVnrArea\",\"1stFlrSF\",\"2ndFlrSF\",\"LowQualFinSF\",\"GrLivArea\",\"GarageArea\",\"OpenPorchSF\"]] = my_scaler.transform(valid_X_df[[\"LotFrontage\",\"LotArea\",\"MasVnrArea\",\"1stFlrSF\",\"2ndFlrSF\",\"LowQualFinSF\",\"GrLivArea\",\"GarageArea\",\"OpenPorchSF\"]])\n",
    "\n",
    "# my_scaler.fit(test_X_df[[\"LotFrontage\",\"LotArea\",\"MasVnrArea\",\"1stFlrSF\",\"2ndFlrSF\",\"LowQualFinSF\",\"GrLivArea\",\"GarageArea\",\"OpenPorchSF\"]])\n",
    "# test_X_df[[\"LotFrontage\",\"LotArea\",\"MasVnrArea\",\"1stFlrSF\",\"2ndFlrSF\",\"LowQualFinSF\",\"GrLivArea\",\"GarageArea\",\"OpenPorchSF\"]] = my_scaler.transform(test_X_df[[\"LotFrontage\",\"LotArea\",\"MasVnrArea\",\"1stFlrSF\",\"2ndFlrSF\",\"LowQualFinSF\",\"GrLivArea\",\"GarageArea\",\"OpenPorchSF\"]])"
   ]
  },
  {
   "cell_type": "markdown",
   "metadata": {},
   "source": [
    "Initial data visualisations suggested that most correlations followed linear regression. A small number of columns exhibited polynomial relations.\n",
    "\n",
    "To test what degree of polynomial to use, iterate the degree from 1 to 4. Choose the model that yields the lowest error on the cross-val set."
   ]
  },
  {
   "cell_type": "code",
   "execution_count": 15,
   "metadata": {
    "scrolled": true
   },
   "outputs": [],
   "source": [
    "from sklearn.preprocessing import PolynomialFeatures \n",
    "from sklearn.linear_model import LinearRegression\n",
    "\n",
    "\n",
    "train_predictions_list=[]\n",
    "valid_predictions_list=[]\n",
    "for i in range(1,5):\n",
    "    poly = PolynomialFeatures(degree=i)\n",
    "    X_poly = poly.fit_transform(train_X_df)\n",
    "    pol_reg = LinearRegression()\n",
    "    pol_reg.fit(X_poly, train_Y_df)\n",
    "    \n",
    "    train_predictions = pol_reg.predict(poly.fit_transform(train_X_df))\n",
    "    train_predictions_list.append(train_predictions)\n",
    "    \n",
    "    valid_predictions = pol_reg.predict(poly.fit_transform(valid_X_df))\n",
    "    valid_predictions_list.append(valid_predictions)"
   ]
  },
  {
   "cell_type": "markdown",
   "metadata": {},
   "source": [
    "^ the point of predicting output values on the training input values is to check for overfitting later."
   ]
  },
  {
   "cell_type": "code",
   "execution_count": 22,
   "metadata": {
    "scrolled": false
   },
   "outputs": [
    {
     "name": "stdout",
     "output_type": "stream",
     "text": [
      "33078.9664444894\n",
      "optimal degree: 1\n"
     ]
    }
   ],
   "source": [
    "max_pred_valid =[]\n",
    "for i in valid_predictions_list:\n",
    "    max_pred_valid.append(((i-valid_Y_df)**2).mean())\n",
    "print(math.sqrt(min(max_pred_valid)))\n",
    "print(\"optimal degree:\",np.argmin(max_pred_valid)+1)"
   ]
  },
  {
   "cell_type": "code",
   "execution_count": 23,
   "metadata": {},
   "outputs": [
    {
     "name": "stdout",
     "output_type": "stream",
     "text": [
      "275.97462133339536\n",
      "optimal degree: 4\n"
     ]
    }
   ],
   "source": [
    "max_pred_train =[]\n",
    "for i in train_predictions_list:\n",
    "    max_pred_train.append(((i-train_Y_df)**2).mean())\n",
    "print(math.sqrt(min(max_pred_train)))\n",
    "print(\"optimal degree:\", np.argmin(max_pred_train)+1)"
   ]
  },
  {
   "cell_type": "code",
   "execution_count": 18,
   "metadata": {
    "scrolled": false
   },
   "outputs": [
    {
     "data": {
      "image/png": "[encoded data removed]",
      "text/plain": [
       "<Figure size 432x288 with 1 Axes>"
      ]
     },
     "metadata": {},
     "output_type": "display_data"
    }
   ],
   "source": [
    "plt.title(\"Validation set error depending on degree\")\n",
    "plt.plot([1,2,3,4],max_pred_valid) \n",
    "plt.show()"
   ]
  },
  {
   "cell_type": "code",
   "execution_count": 19,
   "metadata": {},
   "outputs": [
    {
     "data": {
      "image/png": "[encoded data removed]",
      "text/plain": [
       "<Figure size 432x288 with 1 Axes>"
      ]
     },
     "metadata": {},
     "output_type": "display_data"
    }
   ],
   "source": [
    "plt.title(\"Training set error depending on degree\")\n",
    "plt.plot([1,2,3,4],max_pred_train)\n",
    "plt.show()"
   ]
  },
  {
   "cell_type": "markdown",
   "metadata": {},
   "source": [
    "** ^This suggests overfitting as degree increases. Training set error goes down, while validation error goes up. **\n",
    "\n",
    "So when degree = 1 (therefore model is linear regression), validation error is lowest. Now evaluate test set."
   ]
  },
  {
   "cell_type": "code",
   "execution_count": 20,
   "metadata": {},
   "outputs": [],
   "source": [
    "lin_reg = LinearRegression()\n",
    "lin_reg.fit(train_X_df, train_Y_df)\n",
    "\n",
    "test_predictions = lin_reg.predict(test_X_df)"
   ]
  },
  {
   "cell_type": "code",
   "execution_count": 21,
   "metadata": {},
   "outputs": [
    {
     "name": "stdout",
     "output_type": "stream",
     "text": [
      "Mean Absolute Percentage Error (MAPE) = 15.082790560608869\n",
      "r2score = 0.7595173273395691\n"
     ]
    }
   ],
   "source": [
    "from sklearn.metrics import r2_score\n",
    "print(\"Mean Absolute Percentage Error (MAPE) =\",(abs(test_predictions-test_Y_df)/test_Y_df).mean()*100)\n",
    "print(\"r2score =\",r2_score(test_predictions,test_Y_df))"
   ]
  },
  {
   "cell_type": "markdown",
   "metadata": {},
   "source": [
    "### Thank you for reading.\n",
    "##### By Christian Deverall"
   ]
  }
 ],
 "metadata": {
  "kernelspec": {
   "display_name": "Python 3",
   "language": "python",
   "name": "python3"
  },
  "language_info": {
   "codemirror_mode": {
    "name": "ipython",
    "version": 3
   },
   "file_extension": ".py",
   "mimetype": "text/x-python",
   "name": "python",
   "nbconvert_exporter": "python",
   "pygments_lexer": "ipython3",
   "version": "3.6.5"
  }
 },
 "nbformat": 4,
 "nbformat_minor": 2
}
